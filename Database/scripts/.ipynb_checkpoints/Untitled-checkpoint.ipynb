{
 "cells": [
  {
   "cell_type": "code",
   "execution_count": 5,
   "id": "c9231916",
   "metadata": {},
   "outputs": [],
   "source": [
    "import uuid\n",
    "import random\n",
    "from faker import Faker"
   ]
  },
  {
   "cell_type": "code",
   "execution_count": 6,
   "id": "bac88e4b",
   "metadata": {},
   "outputs": [],
   "source": [
    "supabase_url = \"https://your-project-url.supabase.co\"\n",
    "supabase_key = \"your-anon-key\"\n",
    "client = supabase.create_client(supabase_url, supabase_key)\n",
    "\n",
    "# Fetch current table names\n",
    "tables = client.rpc(\"pg_tables\").execute()\n",
    "for table in tables.data:\n",
    "    print(table[\"tablename\"])"
   ]
  },
  {
   "cell_type": "code",
   "execution_count": null,
   "id": "f8b6aeb0",
   "metadata": {},
   "outputs": [],
   "source": [
    "import requests\n",
    "\n",
    "def get_table_columns(table_name):\n",
    "    \"\"\"Fetch column names and types from Supabase\"\"\"\n",
    "    query = f\"\"\"\n",
    "    SELECT column_name, data_type FROM information_schema.columns \n",
    "    WHERE table_name = '{table_name}'\n",
    "    \"\"\"\n",
    "    response = client.rpc(\"pg_query\", {\"query\": query}).execute()\n",
    "    return response.data if response else []\n",
    "\n",
    "# Example usage:\n",
    "print(get_table_columns(\"persons\"))\n"
   ]
  },
  {
   "cell_type": "code",
   "execution_count": null,
   "id": "e5da151f",
   "metadata": {},
   "outputs": [],
   "source": [
    "import uuid\n",
    "import random\n",
    "from faker import Faker\n",
    "\n",
    "fake = Faker()\n",
    "\n",
    "def insert_data(table_name, num_rows=10):\n",
    "    \"\"\"Insert data into a given table dynamically\"\"\"\n",
    "    columns = get_table_columns(table_name)\n",
    "    \n",
    "    if not columns:\n",
    "        print(f\"Table {table_name} does not exist or has no columns.\")\n",
    "        return\n",
    "\n",
    "    data = []\n",
    "    for _ in range(num_rows):\n",
    "        row = {}\n",
    "        for column in columns:\n",
    "            col_name = column[\"column_name\"]\n",
    "            col_type = column[\"data_type\"]\n",
    "            \n",
    "            # Generate appropriate fake data\n",
    "            if \"uuid\" in col_type:\n",
    "                row[col_name] = str(uuid.uuid4())\n",
    "            elif \"text\" in col_type:\n",
    "                row[col_name] = fake.word()\n",
    "            elif \"integer\" in col_type:\n",
    "                row[col_name] = random.randint(1, 100)\n",
    "            elif \"timestamp\" in col_type:\n",
    "                row[col_name] = fake.date_time().isoformat()\n",
    "        \n",
    "        data.append(row)\n",
    "\n",
    "    # Insert into Supabase\n",
    "    client.table(table_name).insert(data).execute()\n",
    "    print(f\"Inserted {num_rows} rows into {table_name}.\")\n",
    "\n",
    "# Example usage\n",
    "insert_data(\"persons\", num_rows=5)\n"
   ]
  }
 ],
 "metadata": {
  "kernelspec": {
   "display_name": "Python 3 (ipykernel)",
   "language": "python",
   "name": "python3"
  },
  "language_info": {
   "codemirror_mode": {
    "name": "ipython",
    "version": 3
   },
   "file_extension": ".py",
   "mimetype": "text/x-python",
   "name": "python",
   "nbconvert_exporter": "python",
   "pygments_lexer": "ipython3",
   "version": "3.11.5"
  }
 },
 "nbformat": 4,
 "nbformat_minor": 5
}
